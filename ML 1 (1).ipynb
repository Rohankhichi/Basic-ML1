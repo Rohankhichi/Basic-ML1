{
 "cells": [
  {
   "cell_type": "markdown",
   "id": "a7601e96-6041-4718-9e5e-2b627dbc31a5",
   "metadata": {},
   "source": [
    "Q1- Explain the following with an Example :\n",
    "1) Artificial Intelligence\n",
    "2) Machine Learning,\n",
    "3) Deep Learning"
   ]
  },
  {
   "cell_type": "markdown",
   "id": "56555942-34b3-441c-8607-541f8ddc890e",
   "metadata": {},
   "source": [
    "A1-\n",
    "1) Artificial intelligence is the ability of a computer or computer-controlled robot to perform tasks that are commonly associated with the intellectual processes characteristic of humans, such as the ability to reason.\n",
    "example- Reactive machines\n",
    "2) Machine Learning, often abbreviated as ML, is a subset of artificial intelligence (AI) that focuses on the development of computer algorithms that improve automatically through experience and by the use of data. In simpler terms, machine learning enables computers to learn from data and make decisions or predictions without being explicitly programmed to do so.\n",
    "example - Autonomus cars\n",
    "3)Deep learning is a method in artificial intelligence (AI) that teaches computers to process data in a way that is inspired by the human brain. Deep learning models can recognize complex patterns in pictures, text, sounds, and other data to produce accurate insights and predictions.\n",
    "example - image recognition"
   ]
  },
  {
   "cell_type": "markdown",
   "id": "cabe52c7-41c4-4e0a-9f73-d8612e51df89",
   "metadata": {},
   "source": [
    "Q2- What is supervised learning? List some examples of supervised learning."
   ]
  },
  {
   "cell_type": "markdown",
   "id": "1b61bbf1-4326-4b7c-83ca-8b87dd45367c",
   "metadata": {},
   "source": [
    "A2 - Supervised learning is a category of machine learning that uses labeled datasets to train algorithms to predict outcomes and recognize patterns.\n",
    "Examples - Email Filtering. Supervised learning is commonly used in email filtering to classify incoming emails as spam or legitimate. ...\n",
    "Credit Scoring. ...\n",
    "Voice Recognition. ...\n",
    "Regression."
   ]
  },
  {
   "cell_type": "markdown",
   "id": "beefc88e-4fe0-4e50-ae42-2ed5e561e6c7",
   "metadata": {},
   "source": [
    "Q3- What is unsupervised learning? List some examples of unsupervised learning."
   ]
  },
  {
   "cell_type": "markdown",
   "id": "03ae4208-222c-4df9-a527-5ace7fb8defc",
   "metadata": {},
   "source": [
    "A3 - Imagine that you have a large dataset about weather. An unsupervised learning algorithm will go through the data and identify patterns in the data points. For instance, it might group data by temperature or similar weather patterns."
   ]
  },
  {
   "cell_type": "markdown",
   "id": "69ae2171-4589-4ffa-ad76-2f0917ddcaca",
   "metadata": {},
   "source": [
    "Q4- What is the difference between AI, ML, DL, and DS?"
   ]
  },
  {
   "cell_type": "markdown",
   "id": "18435a02-49d4-408a-8be6-7041f842087f",
   "metadata": {},
   "source": [
    "A4 -  AI is the broader field of developing intelligent machines, ML is a subset of AI that involves training algorithms to learn from data, DL is a subset of ML that uses ANNs to model complex patterns in data, and DS is an interdisciplinary field that involves extracting insights from data."
   ]
  },
  {
   "cell_type": "markdown",
   "id": "216813c9-87d6-4613-b046-f91a206db2d0",
   "metadata": {},
   "source": [
    "Q5- What are the main differences between supervised, unsupervised, and semi-supervised learning?"
   ]
  },
  {
   "cell_type": "markdown",
   "id": "dc5181ea-1023-4b33-8938-4cdd99e4660d",
   "metadata": {},
   "source": [
    "A5 - Supervised learning is a problem with labeled data, expecting to develop predictive capability. Unsupervised learning is discovering process, diving into unlabeled data to capture hidden information. Semi-supervised learning is a blend of supervised and unsupervised learning."
   ]
  },
  {
   "cell_type": "markdown",
   "id": "6a0c20f8-2347-430d-bb6e-57339560832e",
   "metadata": {},
   "source": [
    "Q6- What is train, test and validation split? Explain the importance of each term."
   ]
  },
  {
   "cell_type": "markdown",
   "id": "a1a24321-de64-4b23-8428-563fe6805e0a",
   "metadata": {},
   "source": [
    "A6 - The train-validation-test split methodology is a tripartite strategy that divides a dataset into three essential subsets: the training set, the validation set, and the test set. Each subset serves a distinct purpose, contributing to the holistic process of building robust and reliable machine learning models.\n",
    "It is important to split your data into a training set and test set to evaluate the model performance and generalizability ability of a machine learning algorithm."
   ]
  },
  {
   "cell_type": "markdown",
   "id": "bccd1c0f-12fb-40d4-9e89-6c9498bf7c40",
   "metadata": {},
   "source": [
    "Q7- How can unsupervised learning be used in anomaly detection?"
   ]
  },
  {
   "cell_type": "markdown",
   "id": "6698f795-345f-417d-9f9c-ef99bb20013b",
   "metadata": {},
   "source": [
    "A7 - Unsupervised machine learning is one of the main branches of machine learning and it has a multitude of applications. One of the most important is anomaly detection: identifying normal patterns within a data sample and then detecting outliers based on the natural characteristics of the data set itself."
   ]
  },
  {
   "cell_type": "markdown",
   "id": "36cf50c3-7b20-439f-bf44-e17c990630c5",
   "metadata": {},
   "source": [
    "Q8- List down some commonly used supervised learning algorithms and unsupervised learning\n",
    "algorithms."
   ]
  },
  {
   "cell_type": "markdown",
   "id": "86deadd4-788c-4585-bd96-8183c5bcbeaa",
   "metadata": {},
   "source": [
    "A8 - The most commonly used Supervised Learning algorithms are decision tree, logistic regression, linear regression, support vector machine. The most commonly used Unsupervised Learning algorithms are k-means clustering, hierarchical clustering, and apriori algorithm."
   ]
  },
  {
   "cell_type": "code",
   "execution_count": null,
   "id": "8dd5dd90-7f5b-46b3-8a6e-44083132e27a",
   "metadata": {},
   "outputs": [],
   "source": []
  }
 ],
 "metadata": {
  "kernelspec": {
   "display_name": "Python 3 (ipykernel)",
   "language": "python",
   "name": "python3"
  },
  "language_info": {
   "codemirror_mode": {
    "name": "ipython",
    "version": 3
   },
   "file_extension": ".py",
   "mimetype": "text/x-python",
   "name": "python",
   "nbconvert_exporter": "python",
   "pygments_lexer": "ipython3",
   "version": "3.10.8"
  }
 },
 "nbformat": 4,
 "nbformat_minor": 5
}
