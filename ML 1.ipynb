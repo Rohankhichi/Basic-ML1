{
 "cells": [
  {
   "cell_type": "raw",
   "id": "7fb59578-4b29-4c7f-9b9e-822537676c1c",
   "metadata": {},
   "source": [
    "Q1- Explain the following with an Example :\n",
    "1) Artificial Intelligence\n",
    "2) Machine Learning,\n",
    "3) Deep Learning"
   ]
  },
  {
   "cell_type": "raw",
   "id": "aa73f313-67f0-497e-827d-bedfa01bec4d",
   "metadata": {},
   "source": [
    "A1-\n",
    "1) Artificial intelligence is the ability of a computer or computer-controlled robot to perform tasks that are commonly associated with the intellectual processes characteristic of humans, such as the ability to reason.\n",
    "example- Reactive machines\n",
    "2) Machine Learning, often abbreviated as ML, is a subset of artificial intelligence (AI) that focuses on the development of computer algorithms that improve automatically through experience and by the use of data. In simpler terms, machine learning enables computers to learn from data and make decisions or predictions without being explicitly programmed to do so.\n",
    "example - Autonomus cars\n",
    "3)Deep learning is a method in artificial intelligence (AI) that teaches computers to process data in a way that is inspired by the human brain. Deep learning models can recognize complex patterns in pictures, text, sounds, and other data to produce accurate insights and predictions.\n",
    "example - image recognition"
   ]
  },
  {
   "cell_type": "raw",
   "id": "872a2a18-a5ae-450c-8d2b-990f596489be",
   "metadata": {},
   "source": [
    "Q2- What is supervised learning? List some examples of supervised learning."
   ]
  },
  {
   "cell_type": "raw",
   "id": "ffe4756e-ef8c-458a-bde5-bbc59d2b3c52",
   "metadata": {},
   "source": [
    "A2 - Supervised learning is a category of machine learning that uses labeled datasets to train algorithms to predict outcomes and recognize patterns.\n",
    "Examples - Email Filtering. Supervised learning is commonly used in email filtering to classify incoming emails as spam or legitimate. ...\n",
    "Credit Scoring. ...\n",
    "Voice Recognition. ...\n",
    "Regression."
   ]
  },
  {
   "cell_type": "raw",
   "id": "61390861-da6b-44a7-8d6d-3ec575af70ff",
   "metadata": {},
   "source": [
    "Q3- What is unsupervised learning? List some examples of unsupervised learning."
   ]
  },
  {
   "cell_type": "raw",
   "id": "77aa25cf-f83e-4692-833b-62325ce86de6",
   "metadata": {},
   "source": [
    "A3 - Imagine that you have a large dataset about weather. An unsupervised learning algorithm will go through the data and identify patterns in the data points. For instance, it might group data by temperature or similar weather patterns."
   ]
  },
  {
   "cell_type": "raw",
   "id": "f9dc840e-52b9-4c2c-a354-523854ea7475",
   "metadata": {},
   "source": [
    "Q4- What is the difference between AI, ML, DL, and DS?"
   ]
  },
  {
   "cell_type": "raw",
   "id": "aee8825e-79b5-486d-929d-bdcbabfeadd3",
   "metadata": {},
   "source": [
    "A4 -  AI is the broader field of developing intelligent machines, ML is a subset of AI that involves training algorithms to learn from data, DL is a subset of ML that uses ANNs to model complex patterns in data, and DS is an interdisciplinary field that involves extracting insights from data."
   ]
  },
  {
   "cell_type": "raw",
   "id": "dfe5240a-832d-41e9-8e2e-c311f857ab40",
   "metadata": {},
   "source": [
    "Q5- What are the main differences between supervised, unsupervised, and semi-supervised learning?"
   ]
  },
  {
   "cell_type": "raw",
   "id": "42c9fb4a-8d13-4019-98df-852cf4c2b0d3",
   "metadata": {},
   "source": [
    "A5 - Supervised learning is a problem with labeled data, expecting to develop predictive capability. Unsupervised learning is discovering process, diving into unlabeled data to capture hidden information. Semi-supervised learning is a blend of supervised and unsupervised learning."
   ]
  },
  {
   "cell_type": "raw",
   "id": "894614ce-0ebe-4b0d-ba25-5235c8f829bc",
   "metadata": {},
   "source": [
    "Q6- What is train, test and validation split? Explain the importance of each term."
   ]
  },
  {
   "cell_type": "raw",
   "id": "b54dd269-f99a-4828-88fd-b163d47983c2",
   "metadata": {},
   "source": [
    "A6 - The train-validation-test split methodology is a tripartite strategy that divides a dataset into three essential subsets: the training set, the validation set, and the test set. Each subset serves a distinct purpose, contributing to the holistic process of building robust and reliable machine learning models.\n",
    "It is important to split your data into a training set and test set to evaluate the model performance and generalizability ability of a machine learning algorithm."
   ]
  },
  {
   "cell_type": "raw",
   "id": "f29e5dd3-c6b1-40c1-8159-1dedf57b5852",
   "metadata": {},
   "source": [
    "Q7- How can unsupervised learning be used in anomaly detection?"
   ]
  },
  {
   "cell_type": "raw",
   "id": "38d704ad-32ad-4bb3-b9e5-c99bc3abed64",
   "metadata": {},
   "source": [
    "A7 - Unsupervised machine learning is one of the main branches of machine learning and it has a multitude of applications. One of the most important is anomaly detection: identifying normal patterns within a data sample and then detecting outliers based on the natural characteristics of the data set itself."
   ]
  },
  {
   "cell_type": "raw",
   "id": "8c17a119-ac8b-4cae-b0b5-70588a75470f",
   "metadata": {},
   "source": [
    "Q8- List down some commonly used supervised learning algorithms and unsupervised learning\n",
    "algorithms."
   ]
  },
  {
   "cell_type": "raw",
   "id": "448a1d49-93a7-4aec-8f88-151c83045cfe",
   "metadata": {},
   "source": [
    "A8 - The most commonly used Supervised Learning algorithms are decision tree, logistic regression, linear regression, support vector machine. The most commonly used Unsupervised Learning algorithms are k-means clustering, hierarchical clustering, and apriori algorithm."
   ]
  },
  {
   "cell_type": "code",
   "execution_count": null,
   "id": "8dd5dd90-7f5b-46b3-8a6e-44083132e27a",
   "metadata": {},
   "outputs": [],
   "source": []
  }
 ],
 "metadata": {
  "kernelspec": {
   "display_name": "Python 3 (ipykernel)",
   "language": "python",
   "name": "python3"
  },
  "language_info": {
   "codemirror_mode": {
    "name": "ipython",
    "version": 3
   },
   "file_extension": ".py",
   "mimetype": "text/x-python",
   "name": "python",
   "nbconvert_exporter": "python",
   "pygments_lexer": "ipython3",
   "version": "3.10.8"
  }
 },
 "nbformat": 4,
 "nbformat_minor": 5
}
